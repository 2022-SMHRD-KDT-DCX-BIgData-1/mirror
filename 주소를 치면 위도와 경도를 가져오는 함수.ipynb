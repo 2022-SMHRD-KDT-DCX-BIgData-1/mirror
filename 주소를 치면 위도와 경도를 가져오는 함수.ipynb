{
 "cells": [
  {
   "cell_type": "code",
   "execution_count": 1,
   "id": "26037de0",
   "metadata": {},
   "outputs": [],
   "source": [
    "import csv"
   ]
  },
  {
   "cell_type": "code",
   "execution_count": 2,
   "id": "c56bd6fb",
   "metadata": {},
   "outputs": [],
   "source": [
    "import numpy as np"
   ]
  },
  {
   "cell_type": "code",
   "execution_count": 3,
   "id": "d6d4e053",
   "metadata": {},
   "outputs": [],
   "source": [
    "import pandas as pd\n",
    "from pandas import Series, DataFrame"
   ]
  },
  {
   "cell_type": "code",
   "execution_count": 4,
   "id": "377452e1",
   "metadata": {},
   "outputs": [],
   "source": [
    "import requests\n",
    "from bs4 import BeautifulSoup"
   ]
  },
  {
   "cell_type": "code",
   "execution_count": 7,
   "id": "d84a4ef8",
   "metadata": {},
   "outputs": [],
   "source": [
    "# 주소 입력하면 위도 경도 찍어내는 함수\n",
    "def get_coordinate(address): # 주소를 입력받음\n",
    "    result = \"\" \n",
    " \n",
    "    url = 'https://dapi.kakao.com/v2/local/search/address.json?query=' + address # 카카오 api 서버스를 이용하여 접근\n",
    "    rest_api_key = '' # 사용자 api key # 카카오 api key를 입력하면 된다.\n",
    "    header = {'Authorization': 'KakaoAK ' + rest_api_key} \n",
    "\n",
    "    r = requests.get(url, headers=header) \n",
    " \n",
    "    if r.status_code == 200: # 정보를 오류없이 받아왔다면\n",
    "        if len(r.json()['documents']) != 0: # 길이가 0이 아니라면\n",
    "            try : \n",
    "                result_address = r.json()[\"documents\"][0][\"address\"]\n",
    "                result = (result_address[\"y\"],result_address[\"x\"])  # 좌표 정보에 접근\n",
    "            except:  # 예외처리\n",
    "                result = np.nan\n",
    "            \n",
    "        else: # 길이가 0인경우 na처리\n",
    "            result = np.nan\n",
    "            \n",
    "    else:\n",
    "        result = \"ERROR[\" + str(r.status_code) + \"]\"\n",
    "   \n",
    "    return result # 좌표를 반환\n",
    "    "
   ]
  },
  {
   "cell_type": "code",
   "execution_count": 11,
   "id": "3ed1a557",
   "metadata": {
    "scrolled": false
   },
   "outputs": [
    {
     "data": {
      "text/plain": [
       "'ERROR[400]'"
      ]
     },
     "execution_count": 11,
     "metadata": {},
     "output_type": "execute_result"
    }
   ],
   "source": [
    "get_coordinate('') # ''안에 주소 입력하면 된다. "
   ]
  },
  {
   "cell_type": "code",
   "execution_count": 7,
   "id": "30d2aa2f",
   "metadata": {},
   "outputs": [],
   "source": [
    "# data=pd.read_csv('data/food_address2.csv', header=None, encoding='euc-kr') 예시 "
   ]
  },
  {
   "cell_type": "code",
   "execution_count": 8,
   "id": "a98971da",
   "metadata": {},
   "outputs": [
    {
     "data": {
      "text/html": [
       "<div>\n",
       "<style scoped>\n",
       "    .dataframe tbody tr th:only-of-type {\n",
       "        vertical-align: middle;\n",
       "    }\n",
       "\n",
       "    .dataframe tbody tr th {\n",
       "        vertical-align: top;\n",
       "    }\n",
       "\n",
       "    .dataframe thead th {\n",
       "        text-align: right;\n",
       "    }\n",
       "</style>\n",
       "<table border=\"1\" class=\"dataframe\">\n",
       "  <thead>\n",
       "    <tr style=\"text-align: right;\">\n",
       "      <th></th>\n",
       "      <th>0</th>\n",
       "    </tr>\n",
       "  </thead>\n",
       "  <tbody>\n",
       "    <tr>\n",
       "      <th>0</th>\n",
       "      <td>서울특별시종로구관훈동92</td>\n",
       "    </tr>\n",
       "    <tr>\n",
       "      <th>1</th>\n",
       "      <td>서울특별시종로구당주동20-2</td>\n",
       "    </tr>\n",
       "    <tr>\n",
       "      <th>2</th>\n",
       "      <td>서울특별시종로구연건동197-5</td>\n",
       "    </tr>\n",
       "    <tr>\n",
       "      <th>3</th>\n",
       "      <td>서울특별시종로구연건동178-1</td>\n",
       "    </tr>\n",
       "    <tr>\n",
       "      <th>4</th>\n",
       "      <td>서울특별시종로구구기동85-9</td>\n",
       "    </tr>\n",
       "    <tr>\n",
       "      <th>...</th>\n",
       "      <td>...</td>\n",
       "    </tr>\n",
       "    <tr>\n",
       "      <th>1745</th>\n",
       "      <td>제주특별자치도서귀포시중문동2439-11</td>\n",
       "    </tr>\n",
       "    <tr>\n",
       "      <th>1746</th>\n",
       "      <td>제주특별자치도서귀포시법환동1552-21</td>\n",
       "    </tr>\n",
       "    <tr>\n",
       "      <th>1747</th>\n",
       "      <td>제주특별자치도서귀포시서호동27-1</td>\n",
       "    </tr>\n",
       "    <tr>\n",
       "      <th>1748</th>\n",
       "      <td>제주특별자치도서귀포시대정읍가파리268</td>\n",
       "    </tr>\n",
       "    <tr>\n",
       "      <th>1749</th>\n",
       "      <td>제주특별자치도서귀포시안덕면사계리126-2</td>\n",
       "    </tr>\n",
       "  </tbody>\n",
       "</table>\n",
       "<p>1750 rows × 1 columns</p>\n",
       "</div>"
      ],
      "text/plain": [
       "                           0\n",
       "0              서울특별시종로구관훈동92\n",
       "1            서울특별시종로구당주동20-2\n",
       "2           서울특별시종로구연건동197-5\n",
       "3           서울특별시종로구연건동178-1\n",
       "4            서울특별시종로구구기동85-9\n",
       "...                      ...\n",
       "1745   제주특별자치도서귀포시중문동2439-11\n",
       "1746   제주특별자치도서귀포시법환동1552-21\n",
       "1747      제주특별자치도서귀포시서호동27-1\n",
       "1748    제주특별자치도서귀포시대정읍가파리268\n",
       "1749  제주특별자치도서귀포시안덕면사계리126-2\n",
       "\n",
       "[1750 rows x 1 columns]"
      ]
     },
     "execution_count": 8,
     "metadata": {},
     "output_type": "execute_result"
    }
   ],
   "source": [
    "# food_we_result=list(map(get_coordinate,data[0]))\n",
    "\n",
    "#what=pd.Series(food_we_result)\n",
    "\n",
    "#what.to_csv('data/food.csv',header = True)"
   ]
  }
 ],
 "metadata": {
  "kernelspec": {
   "display_name": "Python 3 (ipykernel)",
   "language": "python",
   "name": "python3"
  },
  "language_info": {
   "codemirror_mode": {
    "name": "ipython",
    "version": 3
   },
   "file_extension": ".py",
   "mimetype": "text/x-python",
   "name": "python",
   "nbconvert_exporter": "python",
   "pygments_lexer": "ipython3",
   "version": "3.9.12"
  }
 },
 "nbformat": 4,
 "nbformat_minor": 5
}
